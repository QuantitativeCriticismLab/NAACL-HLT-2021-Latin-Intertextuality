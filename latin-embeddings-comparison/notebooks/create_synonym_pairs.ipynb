{
 "cells": [
  {
   "cell_type": "code",
   "execution_count": 1,
   "metadata": {},
   "outputs": [],
   "source": [
    "# This notebook downloads the Spinelli 2018 near-synonyms dataset and converts it to a tab-delimited file for\n",
    "# use with the syn_eval function in the notebook latin-embedding-evaluation-summary.ipynb"
   ]
  },
  {
   "cell_type": "code",
   "execution_count": 2,
   "metadata": {},
   "outputs": [],
   "source": [
    "# Imports\n",
    "\n",
    "import urllib.request\n",
    "import json\n",
    "import re\n",
    "\n",
    "import pandas as pd"
   ]
  },
  {
   "cell_type": "code",
   "execution_count": 3,
   "metadata": {},
   "outputs": [],
   "source": [
    "# Get synonym json\n",
    "\n",
    "url = 'https://raw.githubusercontent.com/tommasospinelli/Online-Dictionary-of-Latin-Near-Synonyms/master/Latin%20Near-Synonyms%20dataset.txt'\n",
    "\n",
    "def response(url):\n",
    "    with urllib.request.urlopen(url) as response:\n",
    "        return response.read()\n",
    "\n",
    "res = response(url)\n",
    "records = json.loads(res)"
   ]
  },
  {
   "cell_type": "code",
   "execution_count": 4,
   "metadata": {},
   "outputs": [],
   "source": [
    "def remove_def_details(defs):\n",
    "    def_details_pattern = re.compile(r' ?\\[.+?\\]')\n",
    "    return def_details_pattern.sub(r'', defs)\n",
    "\n",
    "import unicodedata\n",
    "\n",
    "def remove_macrons(text_with_macrons):\n",
    "    '''Replace macrons in Latin text'''\n",
    "    vowels = 'aeiouyAEIOUYaeiouAEIOU'\n",
    "    vowels_with_macrons = 'āēīōūȳĀĒĪŌŪȲăĕĭŏŭĂĔĬŎŬ'\n",
    "    replacement_dictionary = {k: v for k, v in zip(vowels_with_macrons, vowels)}    \n",
    "    \n",
    "    temp = unicodedata.normalize('NFC', text_with_macrons)\n",
    "\n",
    "    for k, v in replacement_dictionary.items():\n",
    "        temp = temp.replace(k, v)\n",
    "\n",
    "    text_without_macrons = temp \n",
    "\n",
    "    return text_without_macrons\n",
    "\n",
    "import string\n",
    "\n",
    "def remove_punctuation(text):\n",
    "    return text.translate(str.maketrans('', '', string.punctuation))"
   ]
  },
  {
   "cell_type": "code",
   "execution_count": 5,
   "metadata": {},
   "outputs": [],
   "source": [
    "syn_pairs = []\n",
    "\n",
    "for record in list(records.items()):\n",
    "    for defs in record[1]:\n",
    "        lemma, defs_ = remove_punctuation(record[0]), remove_punctuation(remove_macrons(remove_def_details(defs)))\n",
    "        if lemma != defs_:\n",
    "            if ' ' not in lemma and ' ' not in defs_ and len(defs_) > 0:\n",
    "                syn_pairs.append((lemma, defs_))"
   ]
  },
  {
   "cell_type": "code",
   "execution_count": 6,
   "metadata": {},
   "outputs": [],
   "source": [
    "df = pd.DataFrame(syn_pairs)\n",
    "df.drop_duplicates(inplace=True)\n",
    "df.dropna(axis=0, inplace=True)"
   ]
  },
  {
   "cell_type": "code",
   "execution_count": 7,
   "metadata": {},
   "outputs": [],
   "source": [
    "df.to_csv('../data/evaluationsets/synonyms.csv', sep='\\t', header=False, index=False)"
   ]
  }
 ],
 "metadata": {
  "kernelspec": {
   "display_name": "Python 3",
   "language": "python",
   "name": "python3"
  },
  "language_info": {
   "codemirror_mode": {
    "name": "ipython",
    "version": 3
   },
   "file_extension": ".py",
   "mimetype": "text/x-python",
   "name": "python",
   "nbconvert_exporter": "python",
   "pygments_lexer": "ipython3",
   "version": "3.7.9"
  }
 },
 "nbformat": 4,
 "nbformat_minor": 4
}
