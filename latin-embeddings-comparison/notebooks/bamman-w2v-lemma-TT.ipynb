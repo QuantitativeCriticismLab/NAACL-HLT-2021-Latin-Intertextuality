{
 "cells": [
  {
   "cell_type": "code",
   "execution_count": null,
   "metadata": {},
   "outputs": [],
   "source": [
    "# This notebook creates a word2vec model using the Bamman 2012 corpus lemmatized with TreeTagger"
   ]
  },
  {
   "cell_type": "code",
   "execution_count": null,
   "metadata": {},
   "outputs": [],
   "source": [
    "# Imports\n",
    "\n",
    "import os\n",
    "import time\n",
    "import multiprocessing\n",
    "\n",
    "import gensim\n",
    "from gensim.models import Word2Vec\n",
    "\n",
    "from cltk.stem.latin.j_v import JVReplacer\n",
    "from cltk.tokenize.sentence import TokenizeSentence\n",
    "from cltk.lemmatize.latin.backoff import BackoffLatinLemmatizer\n",
    "\n",
    "from tqdm.notebook import tqdm"
   ]
  },
  {
   "cell_type": "code",
   "execution_count": null,
   "metadata": {},
   "outputs": [],
   "source": [
    "# Set up NLP tools\n",
    "\n",
    "replacer = JVReplacer()\n",
    "lemmatizer = BackoffLatinLemmatizer()\n",
    "tokenizer = TokenizeSentence('latin')"
   ]
  },
  {
   "cell_type": "code",
   "execution_count": null,
   "metadata": {},
   "outputs": [],
   "source": [
    "%%capture\n",
    "\n",
    "# Specific imports\n",
    "\n",
    "import treetaggerwrapper\n",
    "\n",
    "# Create Latin tagger\n",
    "# NB: TreeTagger must be installed for this to work properly;\n",
    "# cf. https://www.cis.uni-muenchen.de/~schmid/tools/TreeTagger/ and https://treetaggerwrapper.readthedocs.io/en/latest/\n",
    "# Using the Latin parameter file at https://www.cis.uni-muenchen.de/~schmid/tools/TreeTagger/data/latin.par.gz\n",
    "\n",
    "TT = treetaggerwrapper.TreeTagger(TAGLANG='la', TAGOPT='-token -lemma -sgml -quiet')\n",
    "\n",
    "def lemmatize(text):\n",
    "    lemmas = []\n",
    "    tags = TT.tag_text(text)    \n",
    "    for tag in tags:\n",
    "        if '\\t' in tag:\n",
    "            lemmas.append(tag.split('\\t')[2].replace('-a',''))\n",
    "        else:\n",
    "            lemmas.append('<unknown>')\n",
    "    return lemmas"
   ]
  },
  {
   "cell_type": "code",
   "execution_count": null,
   "metadata": {},
   "outputs": [],
   "source": [
    "# Preprocess texts\n",
    "\n",
    "def preprocess(text):\n",
    "    import html\n",
    "    import string\n",
    "    import re\n",
    "        \n",
    "    text = text.lower()\n",
    "    text = replacer.replace(text) #Normalize u/v & i/j\n",
    "    \n",
    "    punctuation =\"\\\"#$%&\\'()*+,-/:;<=>@[\\]^_`{|}~.?!«»\"\n",
    "    translator = str.maketrans({key: \" \" for key in punctuation})\n",
    "    text = text.translate(translator)\n",
    "\n",
    "    translator = str.maketrans({key: \" \" for key in '0123456789'})\n",
    "    text = text.translate(translator)\n",
    "    return text"
   ]
  },
  {
   "cell_type": "code",
   "execution_count": null,
   "metadata": {},
   "outputs": [],
   "source": [
    "# This step requires the Bamman corpus (latin_txt.tar.gz) to be downloaded, placed in the folder ../models/data/, \n",
    "# uncompressed; i.e. there should be a folder of files named ../models/data/latin_txt. The Bamman corpus can be \n",
    "# downloaded from https://docs.google.com/uc?id=0B5pGKi0iCsnbZEdHZ3N6d216am8&export=download; see more at:\n",
    "# http://www.cs.cmu.edu/~dbamman/latin.html"
   ]
  },
  {
   "cell_type": "code",
   "execution_count": null,
   "metadata": {},
   "outputs": [],
   "source": [
    "#helper iterator class to process raw text and to handle file by file. Avoids memory issues. \n",
    "\n",
    "class MySentences(object):\n",
    "    def __init__(self, dirname):\n",
    "        self.dirname = dirname\n",
    " \n",
    "    \n",
    "    def __iter__(self):\n",
    "        for fname in tqdm(os.listdir(self.dirname)):\n",
    "            with open(os.path.join(self.dirname, fname), encoding='utf-8') as file:\n",
    "                sents = tokenizer.tokenize_sentences(file.read().replace('\\n', ''))\n",
    "                for sent in sents:\n",
    "                    sent = preprocess(sent)\n",
    "                    lemmas = lemmatize(sent)\n",
    "                    yield lemmas"
   ]
  },
  {
   "cell_type": "code",
   "execution_count": null,
   "metadata": {},
   "outputs": [],
   "source": [
    "%%time\n",
    "\n",
    "# Build Latin word2vec on Bamman data\n",
    "\n",
    "cores = multiprocessing.cpu_count()\n",
    "\n",
    "latin_w2v_model = Word2Vec(MySentences(\"../models/data/latin_txt\"), size = 50, min_count=100, workers=cores-1, iter =1)"
   ]
  },
  {
   "cell_type": "code",
   "execution_count": null,
   "metadata": {},
   "outputs": [],
   "source": [
    "latin_w2v_model.save(\"../models/latin_w2v_bamman_lemma_tt\")"
   ]
  }
 ],
 "metadata": {
  "kernelspec": {
   "display_name": "Python 3",
   "language": "python",
   "name": "python3"
  },
  "language_info": {
   "codemirror_mode": {
    "name": "ipython",
    "version": 3
   },
   "file_extension": ".py",
   "mimetype": "text/x-python",
   "name": "python",
   "nbconvert_exporter": "python",
   "pygments_lexer": "ipython3",
   "version": "3.7.9"
  }
 },
 "nbformat": 4,
 "nbformat_minor": 2
}