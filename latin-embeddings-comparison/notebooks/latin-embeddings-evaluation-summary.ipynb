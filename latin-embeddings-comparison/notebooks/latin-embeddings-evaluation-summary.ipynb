{
 "cells": [
  {
   "cell_type": "code",
   "execution_count": 1,
   "metadata": {},
   "outputs": [],
   "source": [
    "# This notebook loads, evaluates, and builds a comparison table of Latin word embedding models. External models are given download scripts; models built by authors can be built using the bamman-w2v-lemma.ipynb abd bamman-w2v-lemma-tt.ipynb notebooks in this directory. (Because of a limitation with scripting large downloads from Google Drive, Bamman 2012 must be manually downloaded and places in the ```models``` directory.) Uncomment cells as needed to run."
   ]
  },
  {
   "cell_type": "markdown",
   "metadata": {},
   "source": [
    "## Setup"
   ]
  },
  {
   "cell_type": "code",
   "execution_count": 2,
   "metadata": {},
   "outputs": [],
   "source": [
    "import warnings; warnings.simplefilter('ignore')"
   ]
  },
  {
   "cell_type": "code",
   "execution_count": 3,
   "metadata": {},
   "outputs": [],
   "source": [
    "# Imports\n",
    "\n",
    "import os\n",
    "import urllib\n",
    "import shutil\n",
    "from zipfile import ZipFile\n",
    "\n",
    "import gensim\n",
    "from gensim.models import Word2Vec\n",
    "import fasttext.util\n",
    "\n",
    "import pandas as pd\n",
    "import numpy as np\n",
    "\n",
    "from cltk.stem.latin.j_v import JVReplacer\n",
    "\n",
    "from tqdm.notebook import tqdm\n",
    "\n",
    "from pprint import pprint"
   ]
  },
  {
   "cell_type": "code",
   "execution_count": 4,
   "metadata": {},
   "outputs": [
    {
     "data": {
      "text/plain": [
       "('../data/evaluationsets/syn-selection-benchmark-Latin.tsv',\n",
       " <http.client.HTTPMessage at 0x126628750>)"
      ]
     },
     "execution_count": 4,
     "metadata": {},
     "output_type": "execute_result"
    }
   ],
   "source": [
    "## Uncomment to download\n",
    "\n",
    "## Get external data\n",
    "\n",
    "## Used with syn_selection_eval\n",
    "## Sprugnoli Rachele, Passarotti Marco, Moretti Giovanni. Vir is to Moderatus as Mulier is to Intemperans – Lemma Embeddings for Latin. 2019. https://embeddings.lila-erc.eu/\n",
    "url = 'https://embeddings.lila-erc.eu/samples/syn/syn-selection-benchmark-Latin.tsv'\n",
    "urllib.request.urlretrieve (url, '../data/evaluationsets/syn-selection-benchmark-Latin.tsv')"
   ]
  },
  {
   "cell_type": "code",
   "execution_count": 5,
   "metadata": {},
   "outputs": [],
   "source": [
    "# Set up tools\n",
    "\n",
    "replacer = JVReplacer()"
   ]
  },
  {
   "cell_type": "code",
   "execution_count": 6,
   "metadata": {},
   "outputs": [],
   "source": [
    "# Set up constants\n",
    "\n",
    "eval_path = '../data/evaluationsets'\n",
    "syn_eval_data = f'{eval_path}/synonyms.csv' \n",
    "syn_selection_eval_data = f'{eval_path}/syn-selection-benchmark-Latin.tsv'"
   ]
  },
  {
   "cell_type": "markdown",
   "metadata": {},
   "source": [
    "## Evaluation functions"
   ]
  },
  {
   "cell_type": "code",
   "execution_count": 7,
   "metadata": {},
   "outputs": [],
   "source": [
    "# Function for evaluating on Spinelli 2018 synonyms dataset\n",
    "\n",
    "def syn_eval(model, eval_data, threshold, verbose=False):\n",
    "    # Better way than two try blocks\n",
    "    try:\n",
    "        vocab_ = model.vocab.keys()\n",
    "    except:\n",
    "        pass\n",
    "    try:\n",
    "        vocab_ = model.wv.vocab.keys()\n",
    "    except:\n",
    "        pass\n",
    "    with open(eval_data,'r') as f:\n",
    "        lines = f.readlines()\n",
    "    total = len(lines)\n",
    "    matches = 0\n",
    "    for line in tqdm(lines):\n",
    "        word, syn = replacer.replace(line.strip()).split('\\t')\n",
    "        if word in vocab_:\n",
    "            most_sim = [item[0] for item in model.most_similar(word, topn=threshold)]\n",
    "            most_sim = replacer.replace(\" \".join(most_sim)).split()\n",
    "            if syn in most_sim:\n",
    "                matches += 1\n",
    "                if verbose:\n",
    "                    print(f'Synonym {syn} is in most_similar for {word}')\n",
    "    return matches/total    "
   ]
  },
  {
   "cell_type": "code",
   "execution_count": 8,
   "metadata": {},
   "outputs": [],
   "source": [
    "# Function for getting mean reciprocal rank on Spinelli 2018 synonyms dataset\n",
    "\n",
    "def syn_mrr(model, eval_data, threshold=100, verbose=False):\n",
    "    # Better way than two try blocks\n",
    "    try:\n",
    "        vocab_ = model.vocab.keys()\n",
    "    except:\n",
    "        pass\n",
    "    try:\n",
    "        vocab_ = model.wv.vocab.keys()\n",
    "    except:\n",
    "        pass\n",
    "    with open(eval_data,'r') as f:\n",
    "        lines = f.readlines()\n",
    "    rrs = []\n",
    "    for line in tqdm(lines):\n",
    "        word, syn = replacer.replace(line.strip()).split('\\t')\n",
    "        if word in vocab_ and syn in vocab_:\n",
    "            most_sim = [item[0] for item in model.most_similar(word, topn=threshold)]\n",
    "            most_sim = replacer.replace(\" \".join(most_sim)).split()\n",
    "            if syn in most_sim:\n",
    "                rr = 1 / (most_sim.index(syn) + 1)\n",
    "                rrs.append(rr)\n",
    "    mrr = np.mean(rrs)\n",
    "    return mrr"
   ]
  },
  {
   "cell_type": "code",
   "execution_count": 9,
   "metadata": {},
   "outputs": [],
   "source": [
    "# Function for evaluating on LiLa synonymn selection datasheet; code based on description of evaluation method given in Sprugnoli, R., Passarotti M., Moretti G. 2019. Vir is to Moderatus as Mulier is to Intemperans – Lemma Embeddings for Latin.\n",
    "\n",
    "def syn_selection_eval(model, eval_data, verbose=False):\n",
    "    # Better way than two try blocks\n",
    "    try:\n",
    "        vocab_ = model.vocab.keys()\n",
    "    except:\n",
    "        pass\n",
    "    try: \n",
    "        vocab_ = model.wv.vocab.keys()\n",
    "    except:\n",
    "        pass\n",
    "    with open(eval_data,'r') as f:\n",
    "        lines = f.readlines()\n",
    "    total = 0\n",
    "    matches = 0\n",
    "    for line in tqdm(lines):\n",
    "        terms = line.split()\n",
    "        if sum([term in vocab_ for term in terms]) == 5:\n",
    "            lemma = terms[0]\n",
    "            \n",
    "            sims = [model.similarity(lemma, term) for term in terms[1:]]\n",
    "            if max(sims) == sims[0]:\n",
    "                matches += 1\n",
    "            else:\n",
    "                pass\n",
    "            total += 1\n",
    "        else:\n",
    "            pass\n",
    "    return ((matches, total), matches/total)  "
   ]
  },
  {
   "cell_type": "markdown",
   "metadata": {},
   "source": [
    "### FastText Latin Model"
   ]
  },
  {
   "cell_type": "code",
   "execution_count": 10,
   "metadata": {},
   "outputs": [],
   "source": [
    "# Download model\n",
    "\n",
    "## Uncomment to download model for first time\n",
    "##\n",
    "# fasttext.util.download_model('la', if_exists='ignore')\n",
    "# shutil.move('cc.la.300.bin', '../models/cc.la.300.bin')\n",
    "# shutil.move('cc.la.300.bin.gz', '../models/cc.la.300.bin.gz')"
   ]
  },
  {
   "cell_type": "code",
   "execution_count": 11,
   "metadata": {},
   "outputs": [],
   "source": [
    "# # Load model\n",
    "\n",
    "# ft_latin = gensim.models.fasttext.load_facebook_vectors('../models/cc.la.300.bin') # Consistent interface, possible speed issues; speed issue may be related to this issue: https://github.com/RaRe-Technologies/gensim/issues/2802\n",
    "# ft_latin.vocab = {replacer.replace(k): v for k, v in ft_latin.vocab.items()}"
   ]
  },
  {
   "cell_type": "markdown",
   "metadata": {},
   "source": [
    "#### FastText Evaluation on synonym list"
   ]
  },
  {
   "cell_type": "code",
   "execution_count": 12,
   "metadata": {},
   "outputs": [],
   "source": [
    "# model = ft_latin\n",
    "\n",
    "# thresholds = [1,5,10,25,100]\n",
    "# ft_evals = []\n",
    "\n",
    "# for threshold in tqdm(thresholds):\n",
    "#     ft_evals.append(syn_eval(ft_latin, syn_eval_data, threshold))\n",
    "    \n",
    "# pprint(list(zip(thresholds, ft_evals)))  "
   ]
  },
  {
   "cell_type": "markdown",
   "metadata": {},
   "source": [
    "#### FastText MRR on synonym list"
   ]
  },
  {
   "cell_type": "code",
   "execution_count": 13,
   "metadata": {},
   "outputs": [],
   "source": [
    "# ft_mrr = syn_mrr(ft_latin, syn_eval_data)\n",
    "# print(ft_mrr)"
   ]
  },
  {
   "cell_type": "markdown",
   "metadata": {},
   "source": [
    "#### FastText Evaluation on synonym selection"
   ]
  },
  {
   "cell_type": "code",
   "execution_count": 14,
   "metadata": {},
   "outputs": [],
   "source": [
    "# ft_selection = syn_selection_eval(ft_latin, syn_selection_eval_data)\n",
    "# print(ft_selection)"
   ]
  },
  {
   "cell_type": "markdown",
   "metadata": {},
   "source": [
    "### Bloem et al. 2020 Model"
   ]
  },
  {
   "cell_type": "code",
   "execution_count": 15,
   "metadata": {},
   "outputs": [],
   "source": [
    "# # Download model\n",
    "# #\n",
    "# # Uncomment to download model for first time\n",
    "\n",
    "# url = 'https://uvaauas.figshare.com/ndownloader/files/22300362'\n",
    "# urllib.request.urlretrieve (url, 'LatinArchiveOrg.ALLCONCAT.UctoNormalizedLowerCase.ShortenedToW2V.NoCarets.txt.skipgram.alpha0.025.neg5.win5.sample0.001.epochs5.mincount50.size100.zip')\n",
    "# shutil.move('LatinArchiveOrg.ALLCONCAT.UctoNormalizedLowerCase.ShortenedToW2V.NoCarets.txt.skipgram.alpha0.025.neg5.win5.sample0.001.epochs5.mincount50.size100.zip', '../models/LatinArchiveOrg.ALLCONCAT.UctoNormalizedLowerCase.ShortenedToW2V.NoCarets.txt.skipgram.alpha0.025.neg5.win5.sample0.001.epochs5.mincount50.size100.zip')\n",
    "# with ZipFile('../models/LatinArchiveOrg.ALLCONCAT.UctoNormalizedLowerCase.ShortenedToW2V.NoCarets.txt.skipgram.alpha0.025.neg5.win5.sample0.001.epochs5.mincount50.size100.zip', 'r') as zf:\n",
    "#    zf.extractall('../models')\n",
    "# os.remove('../models/LatinArchiveOrg.ALLCONCAT.UctoNormalizedLowerCase.ShortenedToW2V.NoCarets.txt.skipgram.alpha0.025.neg5.win5.sample0.001.epochs5.mincount50.size100.zip')"
   ]
  },
  {
   "cell_type": "code",
   "execution_count": 16,
   "metadata": {},
   "outputs": [],
   "source": [
    "# # Load model\n",
    "\n",
    "# bloem_2020 = Word2Vec.load('../models/LatinArchiveOrg.ALLCONCAT.UctoNormalizedLowerCase.ShortenedToW2V.NoCarets.txt.skipgram.alpha0.025.neg5.win5.sample0.001.epochs5.mincount50.size100.model').wv\n",
    "# bloem_2020.vocab = {replacer.replace(k): v for k, v in bloem_2020.vocab.items()}"
   ]
  },
  {
   "cell_type": "markdown",
   "metadata": {},
   "source": [
    "#### Bloem et al. 2020 Evaluation on synonym list"
   ]
  },
  {
   "cell_type": "code",
   "execution_count": 17,
   "metadata": {},
   "outputs": [],
   "source": [
    "# model = bloem_2020\n",
    "\n",
    "# thresholds = [1,5,10,25,100]\n",
    "# bloem_2020_evals = []\n",
    "\n",
    "# for threshold in tqdm(thresholds):\n",
    "#     bloem_2020_evals.append(syn_eval(bloem_2020, syn_eval_data, threshold))\n",
    "    \n",
    "# pprint(list(zip(thresholds, bloem_2020_evals)))  "
   ]
  },
  {
   "cell_type": "markdown",
   "metadata": {},
   "source": [
    "#### Bloem et al. 2020 MRR on synonym list"
   ]
  },
  {
   "cell_type": "code",
   "execution_count": 18,
   "metadata": {},
   "outputs": [],
   "source": [
    "# bloem_2020_mrr = syn_mrr(bloem_2020, syn_eval_data)\n",
    "# print(bloem_2020_mrr)"
   ]
  },
  {
   "cell_type": "markdown",
   "metadata": {},
   "source": [
    "#### Bloem et al. 2020 Evaluation on synonym selection"
   ]
  },
  {
   "cell_type": "code",
   "execution_count": 19,
   "metadata": {},
   "outputs": [],
   "source": [
    "# bloem_2020_selection = syn_selection_eval(bloem_2020, syn_selection_eval_data)\n",
    "# print(bloem_2020_selection)"
   ]
  },
  {
   "cell_type": "markdown",
   "metadata": {},
   "source": [
    "### Bamman 2012 Latin Model"
   ]
  },
  {
   "cell_type": "code",
   "execution_count": 20,
   "metadata": {},
   "outputs": [],
   "source": [
    "# # Download model\n",
    "# #\n",
    "# # Uncomment to download model for first time\n",
    "\n",
    "# # For now, file must be downloaded manually and moved to ../models directory\n",
    "# url = 'https://docs.google.com/uc?id=0B5pGKi0iCsnbMm9Dd2hmb2UtbEk&export=download'"
   ]
  },
  {
   "cell_type": "code",
   "execution_count": 21,
   "metadata": {},
   "outputs": [],
   "source": [
    "# bamman_2012 = gensim.models.KeyedVectors.load_word2vec_format('../models/latin.embeddings', binary=False)\n",
    "# bamman_2012.vocab = {replacer.replace(k): v for k, v in bamman_2012.vocab.items()}"
   ]
  },
  {
   "cell_type": "code",
   "execution_count": 22,
   "metadata": {},
   "outputs": [],
   "source": [
    "# model = bamman_2012\n",
    "\n",
    "# thresholds = [1,5,10,25,100]\n",
    "# bamman_2012_evals = []\n",
    "\n",
    "# for threshold in tqdm(thresholds):\n",
    "#     bamman_2012_evals.append(syn_eval(bamman_2012, syn_eval_data, threshold))\n",
    "    \n",
    "# pprint(list(zip(thresholds, bamman_2012_evals)))  "
   ]
  },
  {
   "cell_type": "markdown",
   "metadata": {},
   "source": [
    "#### Bamman MRR on synonym list"
   ]
  },
  {
   "cell_type": "code",
   "execution_count": 23,
   "metadata": {},
   "outputs": [],
   "source": [
    "# bamman_2012_mrr = syn_mrr(bamman_2012, syn_eval_data)\n",
    "# bamman_2012_mrr"
   ]
  },
  {
   "cell_type": "markdown",
   "metadata": {},
   "source": [
    "#### Bamman Evaluation on synonym selection"
   ]
  },
  {
   "cell_type": "code",
   "execution_count": 24,
   "metadata": {},
   "outputs": [],
   "source": [
    "# bamman_2012_selection = syn_selection_eval(bamman_2012, syn_selection_eval_data)\n",
    "# bamman_2012_selection"
   ]
  },
  {
   "cell_type": "markdown",
   "metadata": {},
   "source": [
    "### LILA Lemmatized Latin W2V CBOW Model"
   ]
  },
  {
   "cell_type": "code",
   "execution_count": 25,
   "metadata": {},
   "outputs": [],
   "source": [
    "# # Download model\n",
    "# #\n",
    "# # Uncomment to download model for first time\n",
    "\n",
    "# url = 'https://embeddings.lila-erc.eu/samples/download/word2vec/allLASLAlemmi-vector-100-nocase-w5-CBOW.vec'\n",
    "# urllib.request.urlretrieve (url, '../models/allLASLAlemmi-vector-100-nocase-w5-CBOW.vec')"
   ]
  },
  {
   "cell_type": "code",
   "execution_count": 26,
   "metadata": {},
   "outputs": [],
   "source": [
    "# model = 'allLASLAlemmi-vector-100-nocase-w5-CBOW.vec'\n",
    "# lila_w2v_cbow_2019 = gensim.models.KeyedVectors.load_word2vec_format(f'../models/{model}')\n",
    "# lila_w2v_cbow_2019.vocab = {replacer.replace(k): v for k, v in lila_w2v_cbow_2019.vocab.items()}"
   ]
  },
  {
   "cell_type": "markdown",
   "metadata": {},
   "source": [
    "#### LiLa W2V Evaluation on synonym list"
   ]
  },
  {
   "cell_type": "code",
   "execution_count": 27,
   "metadata": {},
   "outputs": [],
   "source": [
    "# model = lila_w2v_cbow_2019\n",
    "\n",
    "# thresholds = [1,5,10,25,100]\n",
    "# lila_w2v_cbow_2019_evals = []\n",
    "\n",
    "# for threshold in tqdm(thresholds):\n",
    "#     lila_w2v_cbow_2019_evals.append(syn_eval(lila_w2v_cbow_2019, syn_eval_data, threshold))\n",
    "\n",
    "# pprint(list(zip(thresholds, lila_w2v_cbow_2019_evals)))  "
   ]
  },
  {
   "cell_type": "markdown",
   "metadata": {},
   "source": [
    "#### LiLa W2V MRR on synonym list"
   ]
  },
  {
   "cell_type": "code",
   "execution_count": 28,
   "metadata": {},
   "outputs": [],
   "source": [
    "# lila_w2v_2019_cbow_mrr = syn_mrr(lila_w2v_cbow_2019, syn_eval_data)\n",
    "# lila_w2v_2019_cbow_mrr"
   ]
  },
  {
   "cell_type": "markdown",
   "metadata": {},
   "source": [
    "#### LiLa W2V Evaluation on synonym selection"
   ]
  },
  {
   "cell_type": "code",
   "execution_count": 29,
   "metadata": {},
   "outputs": [],
   "source": [
    "# lila_w2v_2019_cbow_selection = syn_selection_eval(lila_w2v_cbow_2019, syn_selection_eval_data)\n",
    "# lila_w2v_2019_cbow_selection"
   ]
  },
  {
   "cell_type": "markdown",
   "metadata": {},
   "source": [
    "### LILA Lemmatized Latin FastText Skip Model"
   ]
  },
  {
   "cell_type": "code",
   "execution_count": 30,
   "metadata": {},
   "outputs": [],
   "source": [
    "# # Download model\n",
    "# #\n",
    "# # Uncomment to download model for first time\n",
    "\n",
    "# url = 'https://embeddings.lila-erc.eu/samples/download/fasttext/allLASLA-lemmi-fast-100-SKIP-win5-min5.vec'\n",
    "# urllib.request.urlretrieve (url, '../models/allLASLA-lemmi-fast-100-SKIP-win5-min5.vec')"
   ]
  },
  {
   "cell_type": "code",
   "execution_count": 31,
   "metadata": {},
   "outputs": [],
   "source": [
    "# model = 'allLASLA-lemmi-fast-100-SKIP-win5-min5.vec'\n",
    "# lila_ft_skip_2019 = gensim.models.KeyedVectors.load_word2vec_format(f'../models/{model}')\n",
    "# lila_ft_skip_2019.vocab = {replacer.replace(k): v for k, v in lila_ft_skip_2019.vocab.items()}"
   ]
  },
  {
   "cell_type": "markdown",
   "metadata": {},
   "source": [
    "#### LiLa FT Evaluation on synonym list"
   ]
  },
  {
   "cell_type": "code",
   "execution_count": 32,
   "metadata": {},
   "outputs": [],
   "source": [
    "# model = lila_ft_skip_2019\n",
    "\n",
    "# thresholds = [1,5,10,25,100]\n",
    "# lila_ft_skip_2019_evals = []\n",
    "\n",
    "# for threshold in tqdm(thresholds):\n",
    "#     lila_ft_skip_2019_evals.append(syn_eval(lila_ft_skip_2019, syn_eval_data, threshold))\n",
    "\n",
    "# pprint(list(zip(thresholds, lila_ft_skip_2019_evals)))  "
   ]
  },
  {
   "cell_type": "markdown",
   "metadata": {},
   "source": [
    "#### LiLa FT MRR on synonym list"
   ]
  },
  {
   "cell_type": "code",
   "execution_count": 33,
   "metadata": {},
   "outputs": [],
   "source": [
    "# lila_ft_2019_skip_mrr = syn_mrr(lila_ft_skip_2019, syn_eval_data)\n",
    "# print(lila_ft_2019_skip_mrr)"
   ]
  },
  {
   "cell_type": "markdown",
   "metadata": {},
   "source": [
    "#### LiLa Evaluation on synonym selection"
   ]
  },
  {
   "cell_type": "code",
   "execution_count": 34,
   "metadata": {},
   "outputs": [],
   "source": [
    "# lila_ft_2019_skip_selection = syn_selection_eval(lila_ft_skip_2019, syn_selection_eval_data)\n",
    "# print(lila_ft_2019_skip_selection)"
   ]
  },
  {
   "cell_type": "markdown",
   "metadata": {},
   "source": [
    "### QCL Lemmatized Latin Model"
   ]
  },
  {
   "cell_type": "code",
   "execution_count": 35,
   "metadata": {},
   "outputs": [],
   "source": [
    "# # Download model\n",
    "# #\n",
    "# # Uncomment to download model for first time\n",
    "# # NB: See See notebook bamman-w2v-lemma.ipynb for code to this train model\n",
    "\n",
    "# url = 'https://utexas.box.com/shared/static/5kc9t8t5jhca3ad83m7j4uxavrppprll'\n",
    "# urllib.request.urlretrieve (url, '../models/latin_w2v_bamman_lemma300_100_1')\n",
    "# url = 'https://utexas.box.com/shared/static/7vrc22fvzkw1y0m8ceb54fpzdj5vztij.npy'\n",
    "# urllib.request.urlretrieve (url, '../models/latin_w2v_bamman_lemma300_100_1.trainables.syn1neg.npy')\n",
    "# url = 'https://utexas.box.com/shared/static/j81h75p33t2ir7hgm2z9e9bqy6jy0uw0.npy'\n",
    "# urllib.request.urlretrieve (url, '../models/latin_w2v_bamman_lemma300_100_1.wv.vectors.npy')"
   ]
  },
  {
   "cell_type": "code",
   "execution_count": 36,
   "metadata": {},
   "outputs": [],
   "source": [
    "# qcl_2020 = Word2Vec.load('../models/latin_w2v_bamman_lemma300_100_1').wv\n",
    "# qcl_2020.vocab = {replacer.replace(k): v for k, v in qcl_2020.vocab.items()}"
   ]
  },
  {
   "cell_type": "markdown",
   "metadata": {},
   "source": [
    "#### QCL Evaluation on synonym list"
   ]
  },
  {
   "cell_type": "code",
   "execution_count": 37,
   "metadata": {},
   "outputs": [],
   "source": [
    "# model = qcl_2020\n",
    "\n",
    "# thresholds = [1,5,10,25,100]\n",
    "# qcl_2020_evals = []\n",
    "\n",
    "# for threshold in tqdm(thresholds):\n",
    "#     qcl_2020_evals.append(syn_eval(qcl_2020, syn_eval_data, threshold))\n",
    "\n",
    "# pprint(list(zip(thresholds, qcl_2020_evals)))  "
   ]
  },
  {
   "cell_type": "markdown",
   "metadata": {},
   "source": [
    "#### QCL MRR on synonym list"
   ]
  },
  {
   "cell_type": "code",
   "execution_count": 38,
   "metadata": {},
   "outputs": [],
   "source": [
    "# qcl_2020_mrr = syn_mrr(qcl_2020, syn_eval_data)\n",
    "# print(qcl_2020_mrr)"
   ]
  },
  {
   "cell_type": "markdown",
   "metadata": {},
   "source": [
    "#### QCL Evaluation on synonym selection"
   ]
  },
  {
   "cell_type": "code",
   "execution_count": 39,
   "metadata": {},
   "outputs": [],
   "source": [
    "# qcl_2020_selection = syn_selection_eval(qcl_2020, syn_selection_eval_data)\n",
    "# print(qcl_2020_selection)"
   ]
  },
  {
   "cell_type": "markdown",
   "metadata": {},
   "source": [
    "### QCL TT 2020 Latin Model (lemmatized with treetagger)"
   ]
  },
  {
   "cell_type": "code",
   "execution_count": 40,
   "metadata": {},
   "outputs": [],
   "source": [
    "# # Download model\n",
    "# #\n",
    "# # Uncomment to download model for first time\n",
    "# # NB: See See notebook bamman-w2v-lemma-tt.ipynb for code to this train model\n",
    "\n",
    "# url = 'https://utexas.box.com/shared/static/3m1bqek9w583pkktco8vt8t6cr2lb1gu'\n",
    "# urllib.request.urlretrieve (url, '../models/latin_w2v_bamman_lemma_tt')"
   ]
  },
  {
   "cell_type": "code",
   "execution_count": 41,
   "metadata": {},
   "outputs": [],
   "source": [
    "# qcl_2020_tt = Word2Vec.load('../models/latin_w2v_bamman_lemma_tt').wv\n",
    "# qcl_2020_tt.vocab = {replacer.replace(k): v for k, v in qcl_2020_tt.vocab.items()}"
   ]
  },
  {
   "cell_type": "code",
   "execution_count": 42,
   "metadata": {},
   "outputs": [],
   "source": [
    "# model = qcl_2020_tt\n",
    "\n",
    "# thresholds = [1,5,10,25,100]\n",
    "# qcl_2020_tt_evals = []\n",
    "\n",
    "# for threshold in tqdm(thresholds):\n",
    "#     qcl_2020_tt_evals.append(syn_eval(qcl_2020_tt, syn_eval_data, threshold))\n",
    "\n",
    "# pprint(list(zip(thresholds, qcl_2020_tt_evals)))  "
   ]
  },
  {
   "cell_type": "markdown",
   "metadata": {},
   "source": [
    "#### QCL TT 2020 MRR on synonym list"
   ]
  },
  {
   "cell_type": "code",
   "execution_count": 43,
   "metadata": {},
   "outputs": [],
   "source": [
    "# qcl_2020_tt_mrr = syn_mrr(qcl_2020_tt, syn_eval_data)\n",
    "# print(qcl_2020_tt_mrr)"
   ]
  },
  {
   "cell_type": "markdown",
   "metadata": {},
   "source": [
    "#### QCL TT 2020 Evaluation on synonym selection"
   ]
  },
  {
   "cell_type": "code",
   "execution_count": 44,
   "metadata": {},
   "outputs": [],
   "source": [
    "# qcl_2020_tt_selection = syn_selection_eval(qcl_2020_tt, syn_selection_eval_data)\n",
    "# print(qcl_2020_tt_selection)"
   ]
  },
  {
   "cell_type": "markdown",
   "metadata": {},
   "source": [
    "### Summary"
   ]
  },
  {
   "cell_type": "code",
   "execution_count": 45,
   "metadata": {},
   "outputs": [],
   "source": [
    "# Cached results; save time while working\n",
    "\n",
    "bamman_2012_evals = [.004, .016, .021, .033, .058] # last run 4/8/2021\n",
    "ft_evals = [.002, .007, .012, .017, .046] # last run 4/8/2021\n",
    "lila_w2v_cbow_2019_evals = [.024, .081, .113, .159, .271] # last run 4/8/2021\n",
    "lila_ft_skip_2019_evals = [.017, .062, .093, .143, .229] # last run 4/8/2021\n",
    "bloem_2020_evals = [.003, .019, .039, .070, .146] # last run 4/8/2021\n",
    "qcl_2020_evals = [.032, .107, .145, .204, .307] # last run 4/8/2021\n",
    "qcl_2020_tt_evals = [.035, .107, .150, .210, .349] # last run 4/8/2021\n",
    "\n",
    "bamman_2012_mrr = .175 # last run 4/8/2021\n",
    "ft_mrr = .118 # last run 4/8/2021\n",
    "lila_w2v_2019_cbow_mrr = .198 # last run 4/8/2021\n",
    "lila_ft_2019_skip_mrr = .182 # last run 4/8/2021\n",
    "bloem_2020_mrr = .101 # last run 4/8/2021\n",
    "qcl_2020_mrr = .227 # last run 4/8/2021\n",
    "qcl_2020_tt_mrr = .206 # last run 4/8/2021\n",
    "\n",
    "bamman_2012_selection = ((1546, 2320), 0.6663793103448276) # last run 4/8/2021\n",
    "ft_selection = ((331, 447), 0.7404921700223713) # last run 4/8/2021\n",
    "lila_w2v_2019_cbow_selection = ((1420, 1750), 0.8114285714285714) # last run 4/8/2021\n",
    "lila_ft_2019_skip_selection = ((1521, 1750), 0.8691428571428571) # last run 4/8/2021\n",
    "bloem_2020_selection = ((1498, 1766), 0.8482446206115515) # last run 4/8/2021\n",
    "qcl_2020_selection = ((772, 909), 0.8492849284928493) # last run 4/8/2021\n",
    "qcl_2020_tt_selection = ((840, 958), 0.8768267223382046) # last run 4/8/2021"
   ]
  },
  {
   "cell_type": "code",
   "execution_count": 46,
   "metadata": {},
   "outputs": [
    {
     "data": {
      "text/html": [
       "<div>\n",
       "<style scoped>\n",
       "    .dataframe tbody tr th:only-of-type {\n",
       "        vertical-align: middle;\n",
       "    }\n",
       "\n",
       "    .dataframe tbody tr th {\n",
       "        vertical-align: top;\n",
       "    }\n",
       "\n",
       "    .dataframe thead th {\n",
       "        text-align: right;\n",
       "    }\n",
       "</style>\n",
       "<table border=\"1\" class=\"dataframe\">\n",
       "  <thead>\n",
       "    <tr style=\"text-align: right;\">\n",
       "      <th></th>\n",
       "      <th>Bamman 2012</th>\n",
       "      <th>FastText</th>\n",
       "      <th>Lila 2019 W2V CBOW</th>\n",
       "      <th>Bloem 2020</th>\n",
       "      <th>QCL 2020</th>\n",
       "      <th>Lila 2019 FT Skip</th>\n",
       "      <th>QCL 2020 TT</th>\n",
       "    </tr>\n",
       "  </thead>\n",
       "  <tbody>\n",
       "    <tr>\n",
       "      <th>1</th>\n",
       "      <td>0.004</td>\n",
       "      <td>0.002</td>\n",
       "      <td>0.024</td>\n",
       "      <td>0.003</td>\n",
       "      <td>0.032</td>\n",
       "      <td>0.017</td>\n",
       "      <td>0.035</td>\n",
       "    </tr>\n",
       "    <tr>\n",
       "      <th>5</th>\n",
       "      <td>0.016</td>\n",
       "      <td>0.007</td>\n",
       "      <td>0.081</td>\n",
       "      <td>0.019</td>\n",
       "      <td>0.107</td>\n",
       "      <td>0.062</td>\n",
       "      <td>0.107</td>\n",
       "    </tr>\n",
       "    <tr>\n",
       "      <th>10</th>\n",
       "      <td>0.021</td>\n",
       "      <td>0.012</td>\n",
       "      <td>0.113</td>\n",
       "      <td>0.039</td>\n",
       "      <td>0.145</td>\n",
       "      <td>0.093</td>\n",
       "      <td>0.150</td>\n",
       "    </tr>\n",
       "    <tr>\n",
       "      <th>25</th>\n",
       "      <td>0.033</td>\n",
       "      <td>0.017</td>\n",
       "      <td>0.159</td>\n",
       "      <td>0.070</td>\n",
       "      <td>0.204</td>\n",
       "      <td>0.143</td>\n",
       "      <td>0.210</td>\n",
       "    </tr>\n",
       "    <tr>\n",
       "      <th>100</th>\n",
       "      <td>0.058</td>\n",
       "      <td>0.046</td>\n",
       "      <td>0.271</td>\n",
       "      <td>0.146</td>\n",
       "      <td>0.307</td>\n",
       "      <td>0.229</td>\n",
       "      <td>0.349</td>\n",
       "    </tr>\n",
       "    <tr>\n",
       "      <th>MRR</th>\n",
       "      <td>0.175</td>\n",
       "      <td>0.118</td>\n",
       "      <td>0.198</td>\n",
       "      <td>0.101</td>\n",
       "      <td>0.227</td>\n",
       "      <td>0.182</td>\n",
       "      <td>0.206</td>\n",
       "    </tr>\n",
       "    <tr>\n",
       "      <th>Selection</th>\n",
       "      <td>0.666</td>\n",
       "      <td>0.740</td>\n",
       "      <td>0.811</td>\n",
       "      <td>0.848</td>\n",
       "      <td>0.849</td>\n",
       "      <td>0.869</td>\n",
       "      <td>0.877</td>\n",
       "    </tr>\n",
       "  </tbody>\n",
       "</table>\n",
       "</div>"
      ],
      "text/plain": [
       "           Bamman 2012  FastText  Lila 2019 W2V CBOW  Bloem 2020  QCL 2020  \\\n",
       "1                0.004     0.002               0.024       0.003     0.032   \n",
       "5                0.016     0.007               0.081       0.019     0.107   \n",
       "10               0.021     0.012               0.113       0.039     0.145   \n",
       "25               0.033     0.017               0.159       0.070     0.204   \n",
       "100              0.058     0.046               0.271       0.146     0.307   \n",
       "MRR              0.175     0.118               0.198       0.101     0.227   \n",
       "Selection        0.666     0.740               0.811       0.848     0.849   \n",
       "\n",
       "           Lila 2019 FT Skip  QCL 2020 TT  \n",
       "1                      0.017        0.035  \n",
       "5                      0.062        0.107  \n",
       "10                     0.093        0.150  \n",
       "25                     0.143        0.210  \n",
       "100                    0.229        0.349  \n",
       "MRR                    0.182        0.206  \n",
       "Selection              0.869        0.877  "
      ]
     },
     "execution_count": 46,
     "metadata": {},
     "output_type": "execute_result"
    }
   ],
   "source": [
    "model_names = ['FastText', 'Bamman 2012', 'Lila 2019 W2V CBOW', 'Lila 2019 FT Skip', 'QCL 2020', 'QCL 2020 TT', 'Bloem 2020']\n",
    "index_labels = [1, 5, 10, 25, 100, 'MRR', 'Selection']\n",
    "\n",
    "data = [\n",
    "    ft_evals + [ft_mrr, ft_selection[1]],\n",
    "    bamman_2012_evals + [bamman_2012_mrr, bamman_2012_selection[1]],\n",
    "    lila_w2v_cbow_2019_evals + [lila_w2v_2019_cbow_mrr, lila_w2v_2019_cbow_selection[1]],\n",
    "    lila_ft_skip_2019_evals + [lila_ft_2019_skip_mrr, lila_ft_2019_skip_selection[1]],\n",
    "    qcl_2020_evals + [qcl_2020_mrr, qcl_2020_selection[1]],\n",
    "    qcl_2020_tt_evals + [qcl_2020_tt_mrr, qcl_2020_tt_selection[1]],\n",
    "    bloem_2020_evals + [bloem_2020_mrr, bloem_2020_selection[1]],\n",
    "]\n",
    "\n",
    "df = pd.DataFrame(data).round(3)\n",
    "df.index = model_names\n",
    "df.columns = index_labels\n",
    "df = df.sort_values(by=['Selection'])\n",
    "df = df.T\n",
    "df"
   ]
  }
 ],
 "metadata": {
  "kernelspec": {
   "display_name": "PyCharm (naacl-2021)",
   "language": "python",
   "name": "pycharm-fe1defa8"
  },
  "language_info": {
   "codemirror_mode": {
    "name": "ipython",
    "version": 3
   },
   "file_extension": ".py",
   "mimetype": "text/x-python",
   "name": "python",
   "nbconvert_exporter": "python",
   "pygments_lexer": "ipython3",
   "version": "3.7.9"
  }
 },
 "nbformat": 4,
 "nbformat_minor": 4
}